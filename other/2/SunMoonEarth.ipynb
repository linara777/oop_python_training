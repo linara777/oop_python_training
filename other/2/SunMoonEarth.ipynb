{
  "nbformat": 4,
  "nbformat_minor": 0,
  "metadata": {
    "colab": {
      "name": "SunMoonEarth.ipynb",
      "provenance": [],
      "collapsed_sections": []
    },
    "kernelspec": {
      "name": "python3",
      "display_name": "Python 3"
    },
    "language_info": {
      "name": "python"
    }
  },
  "cells": [
    {
      "cell_type": "code",
      "execution_count": 53,
      "metadata": {
        "id": "VsJJ-nrAtZc_"
      },
      "outputs": [],
      "source": [
        "import numpy as np\n",
        "import matplotlib.pyplot as plt\n",
        "\n",
        "from matplotlib import animation, rc\n"
      ]
    },
    {
      "cell_type": "code",
      "source": [
        "import scipy as sp\n",
        "from scipy.integrate import solve_ivp"
      ],
      "metadata": {
        "id": "Q3PPCKHVHbbf"
      },
      "execution_count": 54,
      "outputs": []
    },
    {
      "cell_type": "code",
      "source": [
        "t = 1/31557600\n",
        "l = 1/149597870700"
      ],
      "metadata": {
        "id": "HH7lFWCctaYO"
      },
      "execution_count": 55,
      "outputs": []
    },
    {
      "cell_type": "code",
      "source": [
        "class cosmic_ball:  \n",
        "  def __init__(self, weight, speed, coordinate):\n",
        "    self.weight = weight\n",
        "    self.speed = speed\n",
        "    self.coordinate = coordinate\n",
        "\n",
        "\n",
        "  def relative_coordinates(self, c):\n",
        "    q = []\n",
        "    for i in range(len(c)):\n",
        "      q.append(self.coordinate[i] - c[i])\n",
        "    return q    \n",
        "\n",
        "  def momentum (self, v):\n",
        "    r = []\n",
        "    for i in range(len(v)):\n",
        "      r.append(self.weight * (v[i] - self.speed[i]))\n",
        "    return r\n"
      ],
      "metadata": {
        "id": "lHGa1Gj2taeZ"
      },
      "execution_count": 56,
      "outputs": []
    },
    {
      "cell_type": "code",
      "source": [
        "class center_of_mass:\n",
        "    def __init__(self, num=0):\n",
        "      self.num = num \n",
        "      \n",
        "    def coordinate(self, m, x):\n",
        "      q = []\n",
        "      for i in range(len(m)):\n",
        "        q.append(m[i]*x[i])\n",
        "      return sum(q) / sum(m)\n",
        "\n",
        "    def speed(self, m, v):\n",
        "      q = []\n",
        "      for i in range(len(m)):\n",
        "        q.append(m[i]*v[i])\n",
        "      return sum(q)/sum(m)\n",
        "\n"
      ],
      "metadata": {
        "id": "P-6lekxQzg2W"
      },
      "execution_count": 57,
      "outputs": []
    },
    {
      "cell_type": "code",
      "source": [
        "Earth = cosmic_ball(1, [0.0 , 29780*l/t], [1.0, 0.0])\n",
        "Moon = cosmic_ball(Earth.weight / 81.3, [0.0, 30803*l/t] ,[1.0+405696000*l, 0.0] )\n",
        "Sun = cosmic_ball(332946 * Earth.weight, [0.0, 0.0], [0.0,0.0])"
      ],
      "metadata": {
        "id": "0Hvb7R6LuRJT"
      },
      "execution_count": 58,
      "outputs": []
    },
    {
      "cell_type": "code",
      "source": [
        "C = center_of_mass()\n",
        "C_x = C.coordinate([Earth.weight,Sun.weight,Moon.weight], [Earth.coordinate[0], Sun.coordinate[0] , Moon.coordinate[0]])\n",
        "C_y = C.coordinate([Earth.weight,Sun.weight,Moon.weight], [Earth.coordinate[1], Sun.coordinate[1] , Moon.coordinate[1]])\n",
        "\n"
      ],
      "metadata": {
        "id": "6K2TeMvg0DQV"
      },
      "execution_count": 59,
      "outputs": []
    },
    {
      "cell_type": "code",
      "source": [
        "C_vx = C.speed([Earth.weight,Sun.weight,Moon.weight], [Earth.speed[0], Sun.speed[0] , Moon.speed[0]])\n",
        "C_vy = C.speed([Earth.weight,Sun.weight,Moon.weight], [Earth.speed[1], Sun.speed[1] , Moon.speed[1]])\n"
      ],
      "metadata": {
        "id": "1ABZpRlz3QoY"
      },
      "execution_count": 60,
      "outputs": []
    },
    {
      "cell_type": "code",
      "source": [
        "E_rel_coord = Earth.relative_coordinates([C_x,C_y])\n",
        "S_rel_coord = Sun.relative_coordinates([C_x,C_y])\n",
        "M_rel_coord = Moon.relative_coordinates([C_x,C_y])\n"
      ],
      "metadata": {
        "id": "4Auzmo2y5qO3"
      },
      "execution_count": 61,
      "outputs": []
    },
    {
      "cell_type": "code",
      "source": [
        "E_mom = Earth.momentum([C_vx,C_vy])\n",
        "S_mom = Sun.momentum([C_vx,C_vy])\n",
        "M_mom = Moon.momentum([C_vx,C_vy])\n"
      ],
      "metadata": {
        "id": "IhCHNNr291_i"
      },
      "execution_count": 62,
      "outputs": []
    },
    {
      "cell_type": "code",
      "source": [
        "ini = S_rel_coord + E_rel_coord + M_rel_coord + S_mom + E_mom + M_mom\n"
      ],
      "metadata": {
        "id": "cJHxK17J7KIy"
      },
      "execution_count": 63,
      "outputs": []
    },
    {
      "cell_type": "code",
      "source": [
        "T = np.linspace(0,1,100)\n",
        "G = 6.67*10**(-11)*l**3/(t**2 /(5.97*10**24))\n"
      ],
      "metadata": {
        "id": "LUhtINg691g2"
      },
      "execution_count": 64,
      "outputs": []
    },
    {
      "cell_type": "code",
      "source": [
        "def f(t, y):\n",
        "  q = y.copy()\n",
        "  q[0] = q[6] / Sun.weight\n",
        "  q[1] = q[7] / Sun.weight\n",
        "  q[2] = q[8] / Earth.weight\n",
        "  q[3] = q[9] / Earth.weight\n",
        "  q[4] = q[10] / Moon.weight\n",
        "  q[5] = q[11] / Moon.weight\n",
        "  q[6] = G * Sun.weight * Earth.weight * (y[2]-y[0])/((y[2]-y[0])**2+(y[3]-y[1])**2)**1.5 +  G * Sun.weight * Moon.weight*(y[4]-y[0])/((y[4]-y[0])**2+(y[5]-y[1])**2)**1.5 \n",
        "  q[7] = G * Sun.weight *  Earth.weight * (y[3]-y[1])/((y[2]-y[0])**2+(y[3]-y[1])**2)**1.5 + G * Sun.weight * Moon.weight*(y[5]-y[1])/((y[4]-y[0])**2+(y[5]-y[1])**2)**1.5 \n",
        "  q[8] =  G * Earth.weight *  Sun.weight *(y[0]-y[2])/((y[0]-y[2])**2+(y[1]-y[3])**2)**1.5 +  G * Earth.weight * Moon.weight*(y[4]-y[2])/((y[4]-y[2])**2+(y[5]-y[3])**2)**1.5 \n",
        "  q[9] =  G * Earth.weight * Sun.weight *(y[1]-y[3])/((y[0]-y[2])**2+(y[1]-y[3])**2)**1.5 + G * Earth.weight * Moon.weight*(y[5]-y[3])/((y[4]-y[2])**2+(y[5]-y[3])**2)**1.5 \n",
        "  q[10] = G * Moon.weight * Sun.weight *(y[0]-y[4])/((y[0]-y[4])**2+(y[1]-y[5])**2)**1.5 + G * Moon.weight * Earth.weight*(y[2]-y[4])/((y[2]-y[4])**2+(y[3]-y[5])**2)**1.5 \n",
        "  q[11] = G * Moon.weight * Sun.weight *(y[1]-y[5])/((y[0]-y[4])**2+(y[1]-y[5])**2)**1.5 + G * Moon.weight *  Earth.weight*(y[3]-y[5])/((y[2]-y[4])**2+(y[3]-y[5])**2)**1.5 \n",
        "  return q"
      ],
      "metadata": {
        "id": "72UrsYVc91jR"
      },
      "execution_count": 65,
      "outputs": []
    },
    {
      "cell_type": "code",
      "source": [
        "sol=solve_ivp(f, [0.,1.], ini, t_eval=T, method='Radau')\n"
      ],
      "metadata": {
        "id": "eevmiT0nHUFB"
      },
      "execution_count": 66,
      "outputs": []
    },
    {
      "cell_type": "code",
      "source": [
        "fig = plt.figure()\n",
        "ax = fig.add_subplot()\n",
        "ax.set_title('Rotations of the Moon around the Earth')\n",
        "ax.scatter(0.0,0.0, color = 'cyan')\n",
        "ax.plot(sol.y[4] - sol.y[2] ,sol.y[5] - sol.y[3], color =  'grey' )\n",
        "ax.legend(['Moon', 'Earth'])\n",
        "plt.axis('equal')\n",
        "plt.show()"
      ],
      "metadata": {
        "colab": {
          "base_uri": "https://localhost:8080/",
          "height": 281
        },
        "id": "aU_YNj4BC32x",
        "outputId": "b00c0305-1591-4c8e-d200-34be2a65fecd"
      },
      "execution_count": 69,
      "outputs": [
        {
          "output_type": "display_data",
          "data": {
            "text/plain": [
              "<Figure size 432x288 with 1 Axes>"
            ],
            "image/png": "[encoded data removed]"
          },
          "metadata": {
            "needs_background": "light"
          }
        }
      ]
    },
    {
      "cell_type": "code",
      "source": [
        "fig = plt.figure()\n",
        "ax = fig.add_subplot()\n",
        "ax.set_title('Rotations of the Earth around the Sun')\n",
        "ax.plot(sol.y[2],sol.y[3], color = 'cyan')\n",
        "ax.scatter(sol.y[0],sol.y[1], color = 'yellow')\n",
        "ax.legend(['Earth', 'Sun'])\n",
        "plt.axis('equal')\n",
        "plt.show()"
      ],
      "metadata": {
        "colab": {
          "base_uri": "https://localhost:8080/",
          "height": 281
        },
        "id": "GJuoEWs-FFpT",
        "outputId": "f1b57e4f-805f-4e89-9bfb-a025a4e1836d"
      },
      "execution_count": 70,
      "outputs": [
        {
          "output_type": "display_data",
          "data": {
            "text/plain": [
              "<Figure size 432x288 with 1 Axes>"
            ],
            "image/png": "[encoded data removed]"
          },
          "metadata": {
            "needs_background": "light"
          }
        }
      ]
    }
  ]
}
